{
 "cells": [
  {
   "cell_type": "code",
   "execution_count": 1,
   "id": "5a800b15",
   "metadata": {},
   "outputs": [],
   "source": [
    "import tkinter as tk\n",
    "from tkinter import ttk, messagebox\n",
    "import sqlite3"
   ]
  },
  {
   "cell_type": "code",
   "execution_count": 2,
   "id": "0522fa14",
   "metadata": {},
   "outputs": [],
   "source": [
    "root = tk.Tk()\n",
    "root.title(\"Management\")\n",
    "\n",
    "connection = sqlite3.connect('management.db')\n",
    "\n"
   ]
  },
  {
   "cell_type": "code",
   "execution_count": 3,
   "id": "6e386204",
   "metadata": {},
   "outputs": [
    {
     "data": {
      "text/plain": [
       "<sqlite3.Cursor at 0x1f3e19be420>"
      ]
     },
     "execution_count": 3,
     "metadata": {},
     "output_type": "execute_result"
    }
   ],
   "source": [
    "TABLE_NAME = \"management_table\"\n",
    "STUDENT_ID = \"student_id\"\n",
    "STUDENT_NAME = \"student_name\"\n",
    "STUDENT_COLLEGE = \"student_college\"\n",
    "STUDENT_ADDRESS = \"student_address\"\n",
    "STUDENT_PHONE = \"student_phone\"\n",
    "\n",
    "connection.execute(\" CREATE TABLE IF NOT EXISTS \" + TABLE_NAME + \" ( \" + STUDENT_ID +\n",
    "                   \" INTEGER PRIMARY KEY AUTOINCREMENT, \" +\n",
    "                   STUDENT_NAME + \" TEXT, \" + STUDENT_COLLEGE + \" TEXT, \" +\n",
    "                   STUDENT_ADDRESS + \" TEXT, \" + STUDENT_PHONE + \" INTEGER);\")"
   ]
  },
  {
   "cell_type": "code",
   "execution_count": 4,
   "id": "6df807ac",
   "metadata": {},
   "outputs": [],
   "source": [
    "appLabel = tk.Label(root, text=\"Student Management System\", fg=\"#06a099\", width=35)\n",
    "appLabel.config(font=(\"Sylfaen\", 30))\n",
    "appLabel.grid(row=0, columnspan=2, padx=(10,10), pady=(30, 0))"
   ]
  },
  {
   "cell_type": "code",
   "execution_count": 5,
   "id": "85fed5be",
   "metadata": {},
   "outputs": [],
   "source": [
    "class Student:\n",
    "    studentName = \"\"\n",
    "    collegeName = \"\"\n",
    "    phoneNumber = 0\n",
    "    address = \"\"\n",
    "\n",
    "    def __init__(self, studentName, collegeName, phoneNumber, address):\n",
    "        self.studentName = studentName\n",
    "        self.collegeName = collegeName\n",
    "        self.phoneNumber = phoneNumber\n",
    "        self.address = address"
   ]
  },
  {
   "cell_type": "code",
   "execution_count": 6,
   "id": "e40dcd1d",
   "metadata": {},
   "outputs": [],
   "source": [
    "nameLabel = tk.Label(root, text=\"Enter your name\", width=40, anchor='w',\n",
    "                     font=(\"Sylfaen\", 12)).grid(row=1, column=0, padx=(10,0),\n",
    "                                                pady=(30, 0))\n",
    "collegeLabel = tk.Label(root, text=\"Enter your college\", width=40, anchor='w',\n",
    "                        font=(\"Sylfaen\", 12)).grid(row=2, column=0, padx=(10,0))\n",
    "phoneLabel = tk.Label(root, text=\"Enter your phone number\", width=40, anchor='w',\n",
    "                      font=(\"Sylfaen\", 12)).grid(row=3, column=0, padx=(10,0))\n",
    "addressLabel = tk.Label(root, text=\"Enter your address\", width=40, anchor='w',\n",
    "                        font=(\"Sylfaen\", 12)).grid(row=4, column=0, padx=(10,0))"
   ]
  },
  {
   "cell_type": "code",
   "execution_count": 7,
   "id": "378057b0",
   "metadata": {},
   "outputs": [],
   "source": [
    "nameEntry = tk.Entry(root, width = 30)\n",
    "collegeEntry = tk.Entry(root, width = 30)\n",
    "phoneEntry = tk.Entry(root, width = 30)\n",
    "addressEntry = tk.Entry(root, width = 30)"
   ]
  },
  {
   "cell_type": "code",
   "execution_count": 8,
   "id": "85f1c309",
   "metadata": {},
   "outputs": [],
   "source": [
    "nameEntry.grid(row=1, column=1, padx=(0,10), pady=(30, 20))\n",
    "collegeEntry.grid(row=2, column=1, padx=(0,10), pady = 20)\n",
    "phoneEntry.grid(row=3, column=1, padx=(0,10), pady = 20)\n",
    "addressEntry.grid(row=4, column=1, padx=(0,10), pady = 20)"
   ]
  },
  {
   "cell_type": "code",
   "execution_count": 9,
   "id": "a491404a",
   "metadata": {},
   "outputs": [],
   "source": [
    "def takeNameInput():\n",
    "    global nameEntry, collegeEntry, phoneEntry, addressEntry\n",
    "    # global username, collegeName, phone, address\n",
    "    global list\n",
    "    global TABLE_NAME, STUDENT_NAME, STUDENT_COLLEGE, STUDENT_ADDRESS, STUDENT_PHONE\n",
    "    username = nameEntry.get()\n",
    "    nameEntry.delete(0, tk.END)\n",
    "    collegeName = collegeEntry.get()\n",
    "    collegeEntry.delete(0, tk.END)\n",
    "    phone = int(phoneEntry.get())\n",
    "    phoneEntry.delete(0, tk.END)\n",
    "    address = addressEntry.get()\n",
    "    addressEntry.delete(0, tk.END)\n",
    "\n",
    "    connection.execute(\"INSERT INTO \" + TABLE_NAME + \" ( \" + STUDENT_NAME + \", \" +\n",
    "                       STUDENT_COLLEGE + \", \" + STUDENT_ADDRESS + \", \" +\n",
    "                       STUDENT_PHONE + \" ) VALUES ( '\"\n",
    "                       + username + \"', '\" + collegeName + \"', '\" +\n",
    "                       address + \"', \" + str(phone) + \" ); \")\n",
    "    connection.commit()\n",
    "    messagebox.showinfo(\"Success\", \"Data Saved Successfully.\")"
   ]
  },
  {
   "cell_type": "code",
   "execution_count": 10,
   "id": "5b1da125",
   "metadata": {},
   "outputs": [],
   "source": [
    "def destroyRootWindow():\n",
    "    root.destroy()\n",
    "    secondWindow = tk.Tk()\n",
    "\n",
    "    secondWindow.title(\"Display results\")\n",
    "\n",
    "    appLabel = tk.Label(secondWindow, text=\"Student Management System\",\n",
    "                        fg=\"#06a099\", width=40)\n",
    "    appLabel.config(font=(\"Sylfaen\", 30))\n",
    "    appLabel.pack()\n",
    "\n",
    "    tree = ttk.Treeview(secondWindow)\n",
    "    tree[\"columns\"] = (\"one\", \"two\", \"three\", \"four\")\n",
    "\n",
    "    tree.heading(\"one\", text=\"Student Name\")\n",
    "    tree.heading(\"two\", text=\"College Name\")\n",
    "    tree.heading(\"three\", text=\"Address\")\n",
    "    tree.heading(\"four\", text=\"Phone Number\")\n",
    "\n",
    "    cursor = connection.execute(\"SELECT * FROM \" + TABLE_NAME + \" ;\")\n",
    "    i = 0\n",
    "\n",
    "    for row in cursor:\n",
    "        tree.insert('', i, text=\"Student \" + str(row[0]),\n",
    "                    values=(row[1], row[2],\n",
    "                            row[3], row[4]))\n",
    "        i = i + 1\n",
    "\n",
    "    tree.pack()\n",
    "    secondWindow.mainloop()"
   ]
  },
  {
   "cell_type": "code",
   "execution_count": 11,
   "id": "6f4b3664",
   "metadata": {},
   "outputs": [],
   "source": [
    "# def printDetails():\n",
    "#     for singleItem in list:\n",
    "#         print(\"Student name is: %s\\nCollege name is: %s\\nPhone number is: %d\\nAddress is: %s\" %\n",
    "#               (singleItem.studentName, singleItem.collegeName, singleItem.phoneNumber, singleItem.address))\n",
    "#         print(\"****************************************\")\n",
    "\n",
    "button = tk.Button(root, text=\"Take input\", command=lambda :takeNameInput())\n",
    "button.grid(row=5, column=0, pady=30)\n",
    "\n",
    "displayButton = tk.Button(root, text=\"Display result\", command=lambda :destroyRootWindow())\n",
    "displayButton.grid(row=5, column=1)\n",
    "\n",
    "root.mainloop()"
   ]
  },
  {
   "cell_type": "code",
   "execution_count": null,
   "id": "9b720c7a",
   "metadata": {},
   "outputs": [],
   "source": []
  },
  {
   "cell_type": "code",
   "execution_count": null,
   "id": "bd0baa98",
   "metadata": {},
   "outputs": [],
   "source": []
  },
  {
   "cell_type": "code",
   "execution_count": null,
   "id": "743b0116",
   "metadata": {},
   "outputs": [],
   "source": []
  },
  {
   "cell_type": "code",
   "execution_count": null,
   "id": "a1bdb0d4",
   "metadata": {},
   "outputs": [],
   "source": []
  }
 ],
 "metadata": {
  "kernelspec": {
   "display_name": "Python 3",
   "language": "python",
   "name": "python3"
  },
  "language_info": {
   "codemirror_mode": {
    "name": "ipython",
    "version": 3
   },
   "file_extension": ".py",
   "mimetype": "text/x-python",
   "name": "python",
   "nbconvert_exporter": "python",
   "pygments_lexer": "ipython3",
   "version": "3.8.8"
  }
 },
 "nbformat": 4,
 "nbformat_minor": 5
}
